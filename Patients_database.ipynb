{
 "cells": [
  {
   "cell_type": "code",
   "execution_count": 2,
   "id": "195b7278",
   "metadata": {},
   "outputs": [
    {
     "name": "stdout",
     "output_type": "stream",
     "text": [
      "Requirement already satisfied: mysql-connector in e:\\day4\\anaconda\\lib\\site-packages (2.2.9)\n",
      "Note: you may need to restart the kernel to use updated packages.\n"
     ]
    }
   ],
   "source": [
    "pip install mysql-connector"
   ]
  },
  {
   "cell_type": "code",
   "execution_count": 3,
   "id": "f05b5e63",
   "metadata": {},
   "outputs": [],
   "source": [
    "import mysql.connector\n",
    "import pandas as pd\n"
   ]
  },
  {
   "cell_type": "code",
   "execution_count": 4,
   "id": "c433d5d7",
   "metadata": {},
   "outputs": [],
   "source": [
    "sql='''select * from patients'''"
   ]
  },
  {
   "cell_type": "code",
   "execution_count": 5,
   "id": "6a59b8da",
   "metadata": {},
   "outputs": [],
   "source": [
    "conn = mysql.connector.connect(user='root', password='kush226165@', host='127.0.0.1',database='sys')\n",
    "\n"
   ]
  },
  {
   "cell_type": "code",
   "execution_count": 6,
   "id": "290385a3",
   "metadata": {},
   "outputs": [],
   "source": [
    "mycursor=conn.cursor()"
   ]
  },
  {
   "cell_type": "code",
   "execution_count": 7,
   "id": "1131ab5c",
   "metadata": {},
   "outputs": [],
   "source": [
    "mycursor.execute(\"show databases\")"
   ]
  },
  {
   "cell_type": "code",
   "execution_count": 8,
   "id": "da2aa17f",
   "metadata": {},
   "outputs": [
    {
     "name": "stdout",
     "output_type": "stream",
     "text": [
      "('information_schema',)\n",
      "('mysql',)\n",
      "('patients',)\n",
      "('performance_schema',)\n",
      "('sys',)\n",
      "('vaccination',)\n"
     ]
    }
   ],
   "source": [
    "for i in mycursor:\n",
    "    print(i)\n"
   ]
  },
  {
   "cell_type": "code",
   "execution_count": 9,
   "id": "6812a321",
   "metadata": {},
   "outputs": [],
   "source": [
    "mycursor.execute(\"use vaccination\")"
   ]
  },
  {
   "cell_type": "code",
   "execution_count": 10,
   "id": "a0091033",
   "metadata": {},
   "outputs": [],
   "source": [
    "for i in mycursor:\n",
    "    print(i)\n",
    "    "
   ]
  },
  {
   "cell_type": "code",
   "execution_count": 11,
   "id": "8e4182ed",
   "metadata": {},
   "outputs": [],
   "source": [
    "df=pd.read_sql(sql,conn)"
   ]
  },
  {
   "cell_type": "code",
   "execution_count": 12,
   "id": "79d36ee6",
   "metadata": {},
   "outputs": [
    {
     "data": {
      "text/html": [
       "<div>\n",
       "<style scoped>\n",
       "    .dataframe tbody tr th:only-of-type {\n",
       "        vertical-align: middle;\n",
       "    }\n",
       "\n",
       "    .dataframe tbody tr th {\n",
       "        vertical-align: top;\n",
       "    }\n",
       "\n",
       "    .dataframe thead th {\n",
       "        text-align: right;\n",
       "    }\n",
       "</style>\n",
       "<table border=\"1\" class=\"dataframe\">\n",
       "  <thead>\n",
       "    <tr style=\"text-align: right;\">\n",
       "      <th></th>\n",
       "      <th>cust_ID</th>\n",
       "      <th>Name</th>\n",
       "      <th>open_date</th>\n",
       "      <th>consult_date</th>\n",
       "      <th>vac_ID</th>\n",
       "      <th>DR_Name</th>\n",
       "      <th>state</th>\n",
       "      <th>country</th>\n",
       "      <th>DOB</th>\n",
       "      <th>Activate</th>\n",
       "    </tr>\n",
       "  </thead>\n",
       "  <tbody>\n",
       "    <tr>\n",
       "      <th>0</th>\n",
       "      <td>1</td>\n",
       "      <td>Alex</td>\n",
       "      <td>2015-01-15</td>\n",
       "      <td>2015-01-21</td>\n",
       "      <td>MVX</td>\n",
       "      <td>Paul</td>\n",
       "      <td>SA</td>\n",
       "      <td>USA</td>\n",
       "      <td>1998-02-04</td>\n",
       "      <td>Yes</td>\n",
       "    </tr>\n",
       "    <tr>\n",
       "      <th>1</th>\n",
       "      <td>2</td>\n",
       "      <td>John</td>\n",
       "      <td>2015-09-06</td>\n",
       "      <td>2015-09-11</td>\n",
       "      <td>MCV</td>\n",
       "      <td>Paul</td>\n",
       "      <td>CA</td>\n",
       "      <td>USA</td>\n",
       "      <td>1999-06-06</td>\n",
       "      <td>Yes</td>\n",
       "    </tr>\n",
       "    <tr>\n",
       "      <th>2</th>\n",
       "      <td>3</td>\n",
       "      <td>Sumit</td>\n",
       "      <td>2016-11-23</td>\n",
       "      <td>2016-11-29</td>\n",
       "      <td>MVX</td>\n",
       "      <td>Reddy</td>\n",
       "      <td>KA</td>\n",
       "      <td>IND</td>\n",
       "      <td>1998-08-16</td>\n",
       "      <td>Yes</td>\n",
       "    </tr>\n",
       "    <tr>\n",
       "      <th>3</th>\n",
       "      <td>4</td>\n",
       "      <td>Joma</td>\n",
       "      <td>2017-08-09</td>\n",
       "      <td>2017-08-15</td>\n",
       "      <td>MVX</td>\n",
       "      <td>Chuck</td>\n",
       "      <td>VIC</td>\n",
       "      <td>AU</td>\n",
       "      <td>1997-01-01</td>\n",
       "      <td>No</td>\n",
       "    </tr>\n",
       "    <tr>\n",
       "      <th>4</th>\n",
       "      <td>5</td>\n",
       "      <td>Mathew</td>\n",
       "      <td>2014-12-17</td>\n",
       "      <td>2014-12-25</td>\n",
       "      <td>MCV</td>\n",
       "      <td>Bill</td>\n",
       "      <td>Was</td>\n",
       "      <td>PHIL</td>\n",
       "      <td>1998-02-23</td>\n",
       "      <td>Yes</td>\n",
       "    </tr>\n",
       "  </tbody>\n",
       "</table>\n",
       "</div>"
      ],
      "text/plain": [
       "   cust_ID    Name   open_date consult_date vac_ID DR_Name state country  \\\n",
       "0        1    Alex  2015-01-15   2015-01-21    MVX    Paul    SA     USA   \n",
       "1        2    John  2015-09-06   2015-09-11    MCV    Paul    CA     USA   \n",
       "2        3   Sumit  2016-11-23   2016-11-29    MVX   Reddy    KA     IND   \n",
       "3        4    Joma  2017-08-09   2017-08-15    MVX   Chuck   VIC      AU   \n",
       "4        5  Mathew  2014-12-17   2014-12-25    MCV    Bill   Was    PHIL   \n",
       "\n",
       "          DOB Activate  \n",
       "0  1998-02-04      Yes  \n",
       "1  1999-06-06      Yes  \n",
       "2  1998-08-16      Yes  \n",
       "3  1997-01-01       No  \n",
       "4  1998-02-23      Yes  "
      ]
     },
     "execution_count": 12,
     "metadata": {},
     "output_type": "execute_result"
    }
   ],
   "source": [
    "df.head()"
   ]
  },
  {
   "cell_type": "code",
   "execution_count": 17,
   "id": "14deca8f",
   "metadata": {},
   "outputs": [],
   "source": [
    "def show_data(country):\n",
    "    data = df.loc[df['country'] == country]\n",
    "    print(data)"
   ]
  },
  {
   "cell_type": "code",
   "execution_count": 20,
   "id": "dcdda6e5",
   "metadata": {},
   "outputs": [],
   "source": [
    "def get_file(country):\n",
    "    data = df.loc[df['country'] == country]\n",
    "    file_name = str(country)\n",
    "    data.to_csv('C:/kushal/outputcsv/' + country + \".csv\")  \n",
    "    print(\"File has been created to the specified path\")"
   ]
  },
  {
   "cell_type": "code",
   "execution_count": 24,
   "id": "b4fc47b6",
   "metadata": {},
   "outputs": [
    {
     "name": "stdout",
     "output_type": "stream",
     "text": [
      "   cust_ID   Name   open_date consult_date vac_ID DR_Name state country  \\\n",
      "9       10  Jacob  2018-07-25   2018-07-30    MXV  Andrew    LI      UK   \n",
      "\n",
      "          DOB Activate  \n",
      "9  1999-07-07       No  \n",
      "File has been created to the specified path\n"
     ]
    }
   ],
   "source": [
    "show_data(\"UK\")\n",
    "get_file(\"UK\")"
   ]
  },
  {
   "cell_type": "code",
   "execution_count": null,
   "id": "f8d93061",
   "metadata": {},
   "outputs": [],
   "source": []
  }
 ],
 "metadata": {
  "kernelspec": {
   "display_name": "Python 3",
   "language": "python",
   "name": "python3"
  },
  "language_info": {
   "codemirror_mode": {
    "name": "ipython",
    "version": 3
   },
   "file_extension": ".py",
   "mimetype": "text/x-python",
   "name": "python",
   "nbconvert_exporter": "python",
   "pygments_lexer": "ipython3",
   "version": "3.8.8"
  }
 },
 "nbformat": 4,
 "nbformat_minor": 5
}
